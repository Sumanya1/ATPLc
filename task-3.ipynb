{
 "cells": [
  {
   "cell_type": "code",
   "execution_count": 1,
   "id": "15b8414e",
   "metadata": {},
   "outputs": [
    {
     "name": "stdout",
     "output_type": "stream",
     "text": [
      "Enter items in list 4 7 6 3 5 2 1\n",
      "Smallest item is 1\n"
     ]
    }
   ],
   "source": [
    " li= [int(x) for x in input(\"Enter items in list \").split()]\n",
    "print(\"Smallest item is\", min(li))\n"
   ]
  },
  {
   "cell_type": "code",
   "execution_count": 2,
   "id": "ad8cc242",
   "metadata": {},
   "outputs": [
    {
     "name": "stdout",
     "output_type": "stream",
     "text": [
      "Enter items in list 47 56 87 90 34 21\n",
      "The list is not empty\n"
     ]
    }
   ],
   "source": [
    "li = [int(x) for x in input(\"Enter items in list \").split()]\n",
    "if len(li) != 0:\n",
    "    print(\"The list is not empty\")\n",
    "else:\n",
    "    print(\"The list is empty\")\n"
   ]
  },
  {
   "cell_type": "code",
   "execution_count": 3,
   "id": "41f99bcd",
   "metadata": {},
   "outputs": [
    {
     "name": "stdout",
     "output_type": "stream",
     "text": [
      "Enter items in list 1 24 30 19 15 12 3 67\n",
      "Enter items in list 2 45 76 12 3 15 28 16\n",
      "Atleast One Common Element is Present\n"
     ]
    }
   ],
   "source": [
    "list1 = [int(x) for x in input(\"Enter items in list 1 \").split()]\n",
    "list2 = [int(x) for x in input(\"Enter items in list 2 \").split()]\n",
    "result = False\n",
    "for x in list1:\n",
    "    for y in list2:\n",
    "        if x == y:\n",
    "            result = True\n",
    "            break\n",
    "if result == True:\n",
    "    print(\"Atleast One Common Element is Present\")\n",
    "else:\n",
    "    print(\"No Common Element Present\")\n"
   ]
  },
  {
   "cell_type": "code",
   "execution_count": 4,
   "id": "bfd558e5",
   "metadata": {},
   "outputs": [
    {
     "name": "stdout",
     "output_type": "stream",
     "text": [
      "Enter the list 1 items : shristy\n",
      "Enter the list 2 items : suman\n",
      "['shristy', 'suman']\n"
     ]
    }
   ],
   "source": [
    "list1 = [x for x in input(\"Enter the list 1 items : \").split()]\n",
    "list2 = [x for x in input(\"Enter the list 2 items : \").split()]\n",
    "LIST = list1+list2\n",
    "print(LIST)\n"
   ]
  },
  {
   "cell_type": "code",
   "execution_count": 5,
   "id": "599165c4",
   "metadata": {},
   "outputs": [
    {
     "name": "stdout",
     "output_type": "stream",
     "text": [
      "Enter the list items : 50 25 15 18 7 9\n",
      "['25', '15', '18']\n"
     ]
    }
   ],
   "source": [
    "li = [x for x in input(\"Enter the list items : \").split()]\n",
    "loc = [0, 4, 5]\n",
    "li = [element for (index, element) in enumerate(li) if index not in loc]\n",
    "print(li)\n"
   ]
  },
  {
   "cell_type": "code",
   "execution_count": 1,
   "id": "98c03993",
   "metadata": {},
   "outputs": [
    {
     "name": "stdout",
     "output_type": "stream",
     "text": [
      "Enter 10 integers :\n",
      "1\n",
      "2\n",
      "3\n",
      "5\n",
      "4\n",
      "6\n",
      "7\n",
      "8\n",
      "9\n",
      "3\n",
      "[3, 9, 8, 7, 6, 4, 5, 3, 2, 1]\n"
     ]
    }
   ],
   "source": [
    "list = []\n",
    "list2 = []\n",
    "print(\"Enter 10 integers :\")\n",
    "for i in range(0, 10):\n",
    "    b = int(input())\n",
    "    list.append(b)\n",
    "list2 = [list[-i] for i in range(1, len(list)+1)]\n",
    "print(list2)\n"
   ]
  },
  {
   "cell_type": "code",
   "execution_count": null,
   "id": "29c55fa3",
   "metadata": {},
   "outputs": [],
   "source": []
  },
  {
   "cell_type": "code",
   "execution_count": null,
   "id": "dd11b1b1",
   "metadata": {},
   "outputs": [],
   "source": []
  },
  {
   "cell_type": "code",
   "execution_count": null,
   "id": "ba9ca5f5",
   "metadata": {},
   "outputs": [],
   "source": []
  },
  {
   "cell_type": "code",
   "execution_count": null,
   "id": "7592e996",
   "metadata": {},
   "outputs": [],
   "source": []
  },
  {
   "cell_type": "code",
   "execution_count": null,
   "id": "465715b1",
   "metadata": {},
   "outputs": [],
   "source": []
  },
  {
   "cell_type": "code",
   "execution_count": null,
   "id": "1d2dcd1b",
   "metadata": {},
   "outputs": [],
   "source": []
  },
  {
   "cell_type": "code",
   "execution_count": null,
   "id": "db31763b",
   "metadata": {},
   "outputs": [],
   "source": []
  },
  {
   "cell_type": "code",
   "execution_count": null,
   "id": "35e5c2df",
   "metadata": {},
   "outputs": [],
   "source": []
  },
  {
   "cell_type": "code",
   "execution_count": null,
   "id": "93d42ef3",
   "metadata": {},
   "outputs": [],
   "source": []
  },
  {
   "cell_type": "code",
   "execution_count": null,
   "id": "8e60f555",
   "metadata": {},
   "outputs": [],
   "source": []
  }
 ],
 "metadata": {
  "kernelspec": {
   "display_name": "Python 3 (ipykernel)",
   "language": "python",
   "name": "python3"
  },
  "language_info": {
   "codemirror_mode": {
    "name": "ipython",
    "version": 3
   },
   "file_extension": ".py",
   "mimetype": "text/x-python",
   "name": "python",
   "nbconvert_exporter": "python",
   "pygments_lexer": "ipython3",
   "version": "3.10.9"
  }
 },
 "nbformat": 4,
 "nbformat_minor": 5
}
