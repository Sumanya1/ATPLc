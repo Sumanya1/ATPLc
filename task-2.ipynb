{
 "cells": [
  {
   "cell_type": "code",
   "execution_count": 1,
   "id": "50e317e9",
   "metadata": {},
   "outputs": [
    {
     "name": "stdout",
     "output_type": "stream",
     "text": [
      "Enter a number40\n",
      "46\n"
     ]
    }
   ],
   "source": [
    "a=int(input(\"Enter a number\"))\n",
    "if a<17:\n",
    "    print(int(17-a))\n",
    "else:\n",
    "    print(int(2*abs(17-a)))\n"
   ]
  },
  {
   "cell_type": "code",
   "execution_count": 2,
   "id": "75d86416",
   "metadata": {},
   "outputs": [
    {
     "name": "stdout",
     "output_type": "stream",
     "text": [
      "Enter a Year2000\n",
      "The Year 2000 is a LEAP YEAR\n"
     ]
    }
   ],
   "source": [
    "y=int(input(\"Enter a Year\"))\n",
    "if(y % 400 == 0 or (y % 100 !=0 and y % 4 == 0 )):\n",
    "    print(\"The Year {} is a LEAP YEAR\".format(y))\n",
    "else:\n",
    "    print(\"The Year {} is not a LEAP YEAR\".format(y))\n"
   ]
  },
  {
   "cell_type": "code",
   "execution_count": 3,
   "id": "e3a025fc",
   "metadata": {},
   "outputs": [
    {
     "name": "stdout",
     "output_type": "stream",
     "text": [
      "Enter Three Numbers 2 3 4 \n",
      "The sum is 9\n"
     ]
    }
   ],
   "source": [
    "num1, num2, num3 = (int(x) for x in input(\"Enter Three Numbers \").split())\n",
    "sum = 0\n",
    "if (num1 == num2 or num2 == num3 or num3 == num1):\n",
    "    print(\"The sum is\", sum)\n",
    "else:\n",
    "    sum = num1+num2+num3\n",
    "    print(\"The sum is\", sum)"
   ]
  },
  {
   "cell_type": "code",
   "execution_count": 4,
   "id": "f8c38615",
   "metadata": {},
   "outputs": [
    {
     "name": "stdout",
     "output_type": "stream",
     "text": [
      "Input the name of Month: December\n",
      "No. of days 31 day\n"
     ]
    }
   ],
   "source": [
    "month_name = input(\"Input the name of Month: \")\n",
    "\n",
    "if (month_name == \"February\"):\n",
    "    print(\"No. of days 28/29 days\")\n",
    "elif (month_name in (\"April\", \"June\", \"September\", \"November\")):\n",
    "    print(\"No. of days 30 days\")\n",
    "elif (month_name in (\"January\", \"March\", \"May\", \"July\", \"August\", \"October\", \"December\")):\n",
    "    print(\"No. of days 31 day\")\n",
    "else:\n",
    "    print(\"No such month name exists\")"
   ]
  },
  {
   "cell_type": "code",
   "execution_count": 6,
   "id": "b2f7e415",
   "metadata": {},
   "outputs": [
    {
     "name": "stdout",
     "output_type": "stream",
     "text": [
      "Input lengths of the triangle sides: \n",
      "x: 5\n",
      "y: 7\n",
      "z: 8\n",
      "Scalene triangle\n"
     ]
    }
   ],
   "source": [
    "print(\"Input lengths of the triangle sides: \")\n",
    "x = int(input(\"x: \"))\n",
    "y = int(input(\"y: \"))\n",
    "z = int(input(\"z: \"))\n",
    "\n",
    "if (x == y == z):\n",
    "    print(\"Equilateral triangle\")\n",
    "elif (x == y or y == z or z == x):\n",
    "    print(\"Isosceles triangle\")\n",
    "else:\n",
    "    print(\"Scalene triangle\")"
   ]
  },
  {
   "cell_type": "code",
   "execution_count": null,
   "id": "a0694fd2",
   "metadata": {},
   "outputs": [],
   "source": []
  }
 ],
 "metadata": {
  "kernelspec": {
   "display_name": "Python 3 (ipykernel)",
   "language": "python",
   "name": "python3"
  },
  "language_info": {
   "codemirror_mode": {
    "name": "ipython",
    "version": 3
   },
   "file_extension": ".py",
   "mimetype": "text/x-python",
   "name": "python",
   "nbconvert_exporter": "python",
   "pygments_lexer": "ipython3",
   "version": "3.10.9"
  }
 },
 "nbformat": 4,
 "nbformat_minor": 5
}
